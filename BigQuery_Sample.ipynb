{
 "cells": [
  {
   "cell_type": "code",
   "execution_count": 3,
   "metadata": {},
   "outputs": [
    {
     "name": "stdout",
     "output_type": "stream",
     "text": [
      "Collecting google-cloud-bigquery\n",
      "  Downloading google_cloud_bigquery-1.25.0-py2.py3-none-any.whl (169 kB)\n",
      "Collecting google-api-core<2.0dev,>=1.15.0\n",
      "  Downloading google_api_core-1.21.0-py2.py3-none-any.whl (90 kB)\n",
      "Collecting google-resumable-media<0.6dev,>=0.5.0\n",
      "  Downloading google_resumable_media-0.5.1-py2.py3-none-any.whl (38 kB)\n",
      "Requirement already satisfied: google-auth<2.0dev,>=1.9.0 in c:\\users\\a k sharma\\videos\\python\\lib\\site-packages (from google-cloud-bigquery) (1.15.0)\n",
      "Requirement already satisfied: six<2.0.0dev,>=1.13.0 in c:\\users\\a k sharma\\videos\\python\\lib\\site-packages (from google-cloud-bigquery) (1.14.0)\n",
      "Collecting google-cloud-core<2.0dev,>=1.1.0\n",
      "  Downloading google_cloud_core-1.3.0-py2.py3-none-any.whl (26 kB)\n",
      "Requirement already satisfied: protobuf>=3.6.0 in c:\\users\\a k sharma\\videos\\python\\lib\\site-packages (from google-cloud-bigquery) (3.12.1)\n",
      "Requirement already satisfied: setuptools>=34.0.0 in c:\\users\\a k sharma\\videos\\python\\lib\\site-packages (from google-api-core<2.0dev,>=1.15.0->google-cloud-bigquery) (45.2.0.post20200210)\n",
      "Requirement already satisfied: requests<3.0.0dev,>=2.18.0 in c:\\users\\a k sharma\\videos\\python\\lib\\site-packages (from google-api-core<2.0dev,>=1.15.0->google-cloud-bigquery) (2.22.0)\n",
      "Collecting googleapis-common-protos<2.0dev,>=1.6.0\n",
      "  Downloading googleapis_common_protos-1.52.0-py2.py3-none-any.whl (100 kB)\n",
      "Requirement already satisfied: pytz in c:\\users\\a k sharma\\videos\\python\\lib\\site-packages (from google-api-core<2.0dev,>=1.15.0->google-cloud-bigquery) (2019.3)\n",
      "Requirement already satisfied: pyasn1-modules>=0.2.1 in c:\\users\\a k sharma\\videos\\python\\lib\\site-packages (from google-auth<2.0dev,>=1.9.0->google-cloud-bigquery) (0.2.8)\n",
      "Requirement already satisfied: cachetools<5.0,>=2.0.0 in c:\\users\\a k sharma\\videos\\python\\lib\\site-packages (from google-auth<2.0dev,>=1.9.0->google-cloud-bigquery) (4.1.0)\n",
      "Requirement already satisfied: rsa<4.1,>=3.1.4 in c:\\users\\a k sharma\\videos\\python\\lib\\site-packages (from google-auth<2.0dev,>=1.9.0->google-cloud-bigquery) (4.0)\n",
      "Requirement already satisfied: chardet<3.1.0,>=3.0.2 in c:\\users\\a k sharma\\videos\\python\\lib\\site-packages (from requests<3.0.0dev,>=2.18.0->google-api-core<2.0dev,>=1.15.0->google-cloud-bigquery) (3.0.4)\n",
      "Requirement already satisfied: certifi>=2017.4.17 in c:\\users\\a k sharma\\videos\\python\\lib\\site-packages (from requests<3.0.0dev,>=2.18.0->google-api-core<2.0dev,>=1.15.0->google-cloud-bigquery) (2019.11.28)\n",
      "Requirement already satisfied: idna<2.9,>=2.5 in c:\\users\\a k sharma\\videos\\python\\lib\\site-packages (from requests<3.0.0dev,>=2.18.0->google-api-core<2.0dev,>=1.15.0->google-cloud-bigquery) (2.8)\n",
      "Requirement already satisfied: urllib3!=1.25.0,!=1.25.1,<1.26,>=1.21.1 in c:\\users\\a k sharma\\videos\\python\\lib\\site-packages (from requests<3.0.0dev,>=2.18.0->google-api-core<2.0dev,>=1.15.0->google-cloud-bigquery) (1.25.8)\n",
      "Requirement already satisfied: pyasn1<0.5.0,>=0.4.6 in c:\\users\\a k sharma\\videos\\python\\lib\\site-packages (from pyasn1-modules>=0.2.1->google-auth<2.0dev,>=1.9.0->google-cloud-bigquery) (0.4.8)\n",
      "Installing collected packages: googleapis-common-protos, google-api-core, google-resumable-media, google-cloud-core, google-cloud-bigquery\n",
      "Successfully installed google-api-core-1.21.0 google-cloud-bigquery-1.25.0 google-cloud-core-1.3.0 google-resumable-media-0.5.1 googleapis-common-protos-1.52.0\n"
     ]
    },
    {
     "name": "stderr",
     "output_type": "stream",
     "text": [
      "ERROR: google-api-core 1.21.0 has requirement google-auth<2.0dev,>=1.18.0, but you'll have google-auth 1.15.0 which is incompatible.\n"
     ]
    }
   ],
   "source": [
    "!pip install google-cloud-bigquery"
   ]
  },
  {
   "cell_type": "code",
   "execution_count": 5,
   "metadata": {},
   "outputs": [],
   "source": [
    "import os\n",
    "os.environ[\"GOOGLE_APPLICATION_CREDENTIALS\"]=r\"C:\\Users\\A K SHARMA\\Downloads\\kaggle-bqml-bigqml-9bfd9b8402ee.json\""
   ]
  },
  {
   "cell_type": "code",
   "execution_count": 6,
   "metadata": {},
   "outputs": [
    {
     "name": "stdout",
     "output_type": "stream",
     "text": [
      "Created table kaggle-bqml-bigqml.my_dataset.novice\n"
     ]
    }
   ],
   "source": [
    "from google.cloud import bigquery\n",
    "\n",
    "# Construct a BigQuery client object.\n",
    "client = bigquery.Client()\n",
    "\n",
    "# TODO(developer): Set table_id to the ID of the table to create.\n",
    "table_id = \"kaggle-bqml-bigqml.my_dataset.novice\"\n",
    "\n",
    "schema = [\n",
    "    bigquery.SchemaField(\"full_name\", \"STRING\", mode=\"REQUIRED\"),\n",
    "    bigquery.SchemaField(\"age\", \"INTEGER\", mode=\"REQUIRED\"),\n",
    "]\n",
    "\n",
    "table = bigquery.Table(table_id, schema=schema)\n",
    "table = client.create_table(table)  # Make an API request.\n",
    "print(\n",
    "    \"Created table {}.{}.{}\".format(table.project, table.dataset_id, table.table_id)\n",
    ")"
   ]
  },
  {
   "cell_type": "code",
   "execution_count": 7,
   "metadata": {},
   "outputs": [
    {
     "name": "stdout",
     "output_type": "stream",
     "text": [
      "Query results loaded to the table kaggle-bqml-bigqml.my_dataset.beginner\n"
     ]
    }
   ],
   "source": [
    "    # [START bigquery_query_destination_table]\n",
    "    from google.cloud import bigquery\n",
    "\n",
    "    # TODO(developer): Construct a BigQuery client object.\n",
    "    # client = bigquery.Client()\n",
    "\n",
    "    # TODO(developer): Set table_id to the ID of the destination table.\n",
    "    table_id = \"kaggle-bqml-bigqml.my_dataset.beginner\"\n",
    "\n",
    "    job_config = bigquery.QueryJobConfig(destination=table_id)\n",
    "\n",
    "    sql = \"\"\"\n",
    "        SELECT corpus\n",
    "        FROM `bigquery-public-data.samples.shakespeare`\n",
    "        GROUP BY corpus;\n",
    "    \"\"\"\n",
    "\n",
    "    # Start the query, passing in the extra configuration.\n",
    "    query_job = client.query(sql, job_config=job_config)  # Make an API request.\n",
    "    query_job.result()  # Wait for the job to complete.\n",
    "\n",
    "    print(\"Query results loaded to the table {}\".format(table_id))\n",
    "    # [END bigquery_query_destination_table]"
   ]
  },
  {
   "cell_type": "code",
   "execution_count": null,
   "metadata": {},
   "outputs": [],
   "source": [
    "import pandas as pd\n",
    "import numpy as np\n",
    "\n",
    "client = bigquery.Client(location=\"US\")\n",
    "dataset_id = 'random_dataset'\n",
    "dataset = client.create_dataset(dataset_id) \n",
    "\n",
    "records = [\n",
    "        {\"title\": \"The Meaning of Life\", \"release_year\": 1983},\n",
    "        {\"title\": \"Monty Python and the Holy Grail\", \"release_year\": 1975},\n",
    "        {\"title\": \"Life of Brian\", \"release_year\": 1979},\n",
    "        {\"title\": \"And Now for Something Completely Different\", \"release_year\": 1971},\n",
    "    ]\n",
    "\n",
    "    # Optionally set explicit indices.\n",
    "    # If indices are not specified, a column will be created for the default\n",
    "    # indices created by pandas.\n",
    "index = [\"Q24980\", \"Q25043\", \"Q24953\", \"Q16403\"]\n",
    "df = pd.DataFrame(records, index=pd.Index(index, name=\"wikidata_id\"))\n",
    "\n",
    "table_ref = dataset.table(\"monty_python\")\n",
    "job = client.load_table_from_dataframe(df, table_ref, location=\"US\")\n",
    "\n",
    "job.result()  # Waits for table load to complete.\n",
    "print(\"Loaded dataframe to {}\".format(table_ref.path))"
   ]
  },
  {
   "cell_type": "code",
   "execution_count": 2,
   "metadata": {},
   "outputs": [],
   "source": [
    "import os\n",
    "os.environ[\"GOOGLE_APPLICATION_CREDENTIALS\"]=r\"C:\\Users\\A K SHARMA\\Downloads\\kaggle-bqml-bigqml-9bfd9b8402ee.json\""
   ]
  },
  {
   "cell_type": "code",
   "execution_count": 3,
   "metadata": {},
   "outputs": [
    {
     "name": "stdout",
     "output_type": "stream",
     "text": [
      "https://stackoverflow.com/questions/22879669 : 65074 views\n",
      "https://stackoverflow.com/questions/35159967 : 63997 views\n",
      "https://stackoverflow.com/questions/10604135 : 62898 views\n",
      "https://stackoverflow.com/questions/16609219 : 48807 views\n",
      "https://stackoverflow.com/questions/13530967 : 47207 views\n",
      "https://stackoverflow.com/questions/27060396 : 46454 views\n",
      "https://stackoverflow.com/questions/39919815 : 45954 views\n",
      "https://stackoverflow.com/questions/11647201 : 44490 views\n",
      "https://stackoverflow.com/questions/11057219 : 44029 views\n",
      "https://stackoverflow.com/questions/39109817 : 41709 views\n"
     ]
    }
   ],
   "source": [
    "# LOADING FIRST QUERY TO BIG QUERY\n",
    "\n",
    "from google.cloud import bigquery\n",
    "\n",
    "\n",
    "def query_stackoverflow():\n",
    "    client = bigquery.Client()\n",
    "    query_job = client.query(\"\"\"\n",
    "        SELECT\n",
    "          CONCAT(\n",
    "            'https://stackoverflow.com/questions/',\n",
    "            CAST(id as STRING)) as url,\n",
    "          view_count\n",
    "        FROM `bigquery-public-data.stackoverflow.posts_questions`\n",
    "        WHERE tags like '%google-bigquery%'\n",
    "        ORDER BY view_count DESC\n",
    "        LIMIT 10\"\"\")\n",
    "\n",
    "    results = query_job.result()  # Waits for job to complete.\n",
    "\n",
    "    for row in results:\n",
    "        print(\"{} : {} views\".format(row.url, row.view_count))\n",
    "\n",
    "\n",
    "if __name__ == '__main__':\n",
    "    query_stackoverflow()"
   ]
  }
 ],
 "metadata": {
  "kernelspec": {
   "display_name": "Python 3",
   "language": "python",
   "name": "python3"
  },
  "language_info": {
   "codemirror_mode": {
    "name": "ipython",
    "version": 3
   },
   "file_extension": ".py",
   "mimetype": "text/x-python",
   "name": "python",
   "nbconvert_exporter": "python",
   "pygments_lexer": "ipython3",
   "version": "3.7.6"
  }
 },
 "nbformat": 4,
 "nbformat_minor": 4
}
